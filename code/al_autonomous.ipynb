{
 "cells": [
  {
   "cell_type": "markdown",
   "metadata": {
    "colab_type": "text",
    "id": "A0WYUUvwr1o6"
   },
   "source": [
    "# Boot"
   ]
  },
  {
   "cell_type": "code",
   "execution_count": 1,
   "metadata": {
    "colab": {
     "base_uri": "https://localhost:8080/",
     "height": 34
    },
    "colab_type": "code",
    "id": "g1CyyojUpNsC",
    "outputId": "293f8c97-91f7-47a5-c0c3-7ca016ce6ac7"
   },
   "outputs": [],
   "source": [
    "# from google.colab import drive\n",
    "# drive.mount(\"/gdrive\", force_remount=True)"
   ]
  },
  {
   "cell_type": "code",
   "execution_count": 2,
   "metadata": {
    "colab": {},
    "colab_type": "code",
    "id": "5L-dvY82r9Oh"
   },
   "outputs": [],
   "source": [
    "# !cp -r '/gdrive/My Drive/Mestrado/07 - Autonomous/code/' '/content'\n",
    "# !mv '/content/code' '/content/scripts'\n",
    "# !cp '/content/scripts/cluster.py' '/content'\n",
    "# !cp '/content/scripts/get_radius.py' '/content'\n",
    "# !cp '/content/scripts/new_cluster.py' '/content'\n",
    "# !cp '/content/scripts/update_clusters.py' '/content'\n",
    "# !cp '/content/scripts/utils.py' '/content'\n",
    "# !rm -r '/content/scripts/'"
   ]
  },
  {
   "cell_type": "code",
   "execution_count": 3,
   "metadata": {
    "colab": {},
    "colab_type": "code",
    "id": "HrEqFmMCsxzE"
   },
   "outputs": [],
   "source": [
    "# !cp -r '/gdrive/My Drive/Mestrado/07 - Autonomous/data/' '/content'"
   ]
  },
  {
   "cell_type": "code",
   "execution_count": 4,
   "metadata": {
    "colab": {},
    "colab_type": "code",
    "id": "7AyUJ_CNtfa6"
   },
   "outputs": [],
   "source": [
    "import pandas as pd\n",
    "import numpy as np\n",
    "import matplotlib.pyplot as plt"
   ]
  },
  {
   "cell_type": "markdown",
   "metadata": {
    "colab_type": "text",
    "id": "Ka9Ie2dGkoO6"
   },
   "source": [
    "# Algorithm"
   ]
  },
  {
   "cell_type": "code",
   "execution_count": 5,
   "metadata": {
    "colab": {},
    "colab_type": "code",
    "id": "X-u_sqH-lAmO"
   },
   "outputs": [],
   "source": [
    "from utils import min_dist, is_empty_list, dist\n",
    "from new_cluster import new_cluster\n",
    "from update_clusters import update_winner_cluster, update_nearest_cluster\n",
    "from overlap import overlap\n",
    "from merge import merge\n",
    "from get_radius import get_radius"
   ]
  },
  {
   "cell_type": "code",
   "execution_count": 6,
   "metadata": {
    "colab": {},
    "colab_type": "code",
    "id": "HpRC_3IikotR"
   },
   "outputs": [],
   "source": [
    "class Autonomous:\n",
    "    def __init__(self, fac, frac=100, m=4): # default of article\n",
    "        self.fac = fac\n",
    "        self.frac = frac\n",
    "        self.m = m\n",
    "        self.clusters = []\n",
    "        self.cont = 0\n",
    "\n",
    "    pass\n",
    "\n",
    "    # x = np.array\n",
    "    def process(self, x):\n",
    "        p = len(x)\n",
    "        if is_empty_list(self.clusters):\n",
    "            self.clusters.append(new_cluster(\n",
    "                x, self.frac, self.fac, p, self.m))\n",
    "        else:\n",
    "            win_cluster = min_dist(x, self.clusters)\n",
    "            win_cluster_radius = get_radius(\n",
    "                self.fac, p, self.m, win_cluster.k)\n",
    "            if dist(x, win_cluster) > win_cluster_radius:\n",
    "                self.clusters.append(new_cluster(\n",
    "                    x, self.frac, self.fac, p, self.m))\n",
    "            else:\n",
    "                self.clusters.remove(win_cluster)\n",
    "                update_winner_cluster(x, win_cluster)\n",
    "\n",
    "                if len(self.clusters) != 0:\n",
    "                    update_nearest_cluster(x, win_cluster, self.clusters)\n",
    "                    \n",
    "                (max_olap, max_cluster) = overlap(win_cluster, self.clusters)\n",
    "                if (max_olap > 0):\n",
    "                    self.cont += 1\n",
    "                    # verificar volume\n",
    "                    # se V merged <= p(Vmin + Vk) => merge\n",
    "#                     self.clusters.remove(win_cluster)\n",
    "#                     self.clusters.remove(max_cluster)\n",
    "\n",
    "#                     new_cluster = merge(win_cluster, max_cluster)\n",
    "#                     self.clusters.append(new_cluster)\n",
    "#                 else:\n",
    "                self.clusters.append(win_cluster)\n",
    "        pass"
   ]
  },
  {
   "cell_type": "markdown",
   "metadata": {
    "colab_type": "text",
    "id": "ELjGXtuFr8uN"
   },
   "source": [
    "# Test with S1"
   ]
  },
  {
   "cell_type": "markdown",
   "metadata": {
    "colab_type": "text",
    "id": "nlb-n8QutyXe"
   },
   "source": [
    "http://cs.joensuu.fi/sipu/datasets/"
   ]
  },
  {
   "cell_type": "code",
   "execution_count": 7,
   "metadata": {
    "colab": {
     "base_uri": "https://localhost:8080/",
     "height": 170
    },
    "colab_type": "code",
    "id": "hq4OK5rjtyEh",
    "outputId": "57a3844f-a1dc-45b3-9557-4ea116d91ee3"
   },
   "outputs": [
    {
     "name": "stdout",
     "output_type": "stream",
     "text": [
      "[[664159 550946]\n",
      " [665845 557965]\n",
      " [597173 575538]\n",
      " ...\n",
      " [650661 861267]\n",
      " [599647 858702]\n",
      " [684091 842566]]\n",
      "<class 'numpy.ndarray'>\n",
      "5000\n"
     ]
    }
   ],
   "source": [
    "data_s1 = pd.read_csv('../data/s1.txt', delimiter='    ', header=None, engine='python')\n",
    "print(data_s1.values)\n",
    "print(type(data_s1.values))\n",
    "print(len(data_s1.values))"
   ]
  },
  {
   "cell_type": "code",
   "execution_count": 8,
   "metadata": {
    "colab": {},
    "colab_type": "code",
    "id": "gsDhNy5lypqw"
   },
   "outputs": [],
   "source": [
    "data = data_s1\n",
    "normalized_df=(data-data.min())/(data.max()-data.min())"
   ]
  },
  {
   "cell_type": "code",
   "execution_count": 9,
   "metadata": {
    "colab": {
     "base_uri": "https://localhost:8080/",
     "height": 34
    },
    "colab_type": "code",
    "id": "18CMK3WJtX4Q",
    "outputId": "7ad9e4e0-d7db-46e3-c078-a0b991b27c03"
   },
   "outputs": [
    {
     "name": "stdout",
     "output_type": "stream",
     "text": [
      "15\n"
     ]
    }
   ],
   "source": [
    "data_s1_cb = pd.read_csv('../data/s1-cb.txt', delimiter=' ', header=None, engine='python')\n",
    "data_s1_cb = data_s1_cb.drop([2], axis=1)\n",
    "print(len(data_s1_cb.values))"
   ]
  },
  {
   "cell_type": "code",
   "execution_count": null,
   "metadata": {
    "colab": {},
    "colab_type": "code",
    "id": "wtninJGSt9xT"
   },
   "outputs": [],
   "source": [
    "autonomous_S1 = Autonomous(fac = 3.3)\n",
    "\n",
    "for r in data_s1.values:\n",
    "    autonomous_S1.process(r)"
   ]
  },
  {
   "cell_type": "code",
   "execution_count": null,
   "metadata": {},
   "outputs": [],
   "source": [
    "autonomous_S1.cont"
   ]
  },
  {
   "cell_type": "code",
   "execution_count": null,
   "metadata": {
    "colab": {
     "base_uri": "https://localhost:8080/",
     "height": 34
    },
    "colab_type": "code",
    "id": "xgiIhyibCR5T",
    "outputId": "30f71366-9e92-4b8c-849d-7add5cf17021"
   },
   "outputs": [],
   "source": [
    "len(autonomous_S1.clusters)"
   ]
  },
  {
   "cell_type": "code",
   "execution_count": null,
   "metadata": {},
   "outputs": [],
   "source": [
    "# random list of colors\n",
    "import random\n",
    "from sklearn.utils import shuffle\n",
    "\n",
    "list_cor = []\n",
    "for i in range(0,10000):\n",
    "    r = lambda: random.randint(0,255)\n",
    "    cor = '#%02X%02X%02X' % (r(),r(),r())\n",
    "    list_cor.append(cor)\n",
    "\n",
    "unique_list = np.array(list_cor)\n",
    "unique_list = np.unique(unique_list)\n",
    "print(len(unique_list))\n",
    "print(len(list_cor))\n",
    "list_cor = unique_list\n",
    "\n",
    "list_cor = shuffle(list_cor)"
   ]
  },
  {
   "cell_type": "code",
   "execution_count": null,
   "metadata": {},
   "outputs": [],
   "source": [
    "barWidth = 1\n",
    "\n",
    "plt.figure(figsize=(10,5))\n",
    "for i in range(0,len(list_cor)):\n",
    "    plt.bar(i, 10, color = list_cor[i], width=barWidth, label=str(list_cor[i]))\n",
    "plt.show()"
   ]
  },
  {
   "cell_type": "code",
   "execution_count": null,
   "metadata": {},
   "outputs": [],
   "source": [
    "plt.figure()\n",
    "i_cor = 0\n",
    "for cluster in autonomous_S1.clusters:\n",
    "#     print(len(cluster.S))\n",
    "    for s in cluster.S:\n",
    "        plt.scatter(s[0], s[1],s=10, c=list_cor[i_cor*3])\n",
    "    i_cor += 1\n",
    "plt.show()"
   ]
  }
 ],
 "metadata": {
  "colab": {
   "collapsed_sections": [],
   "name": "al_autonomous.ipynb",
   "provenance": []
  },
  "kernelspec": {
   "display_name": "Python 3",
   "language": "python",
   "name": "python3"
  },
  "language_info": {
   "codemirror_mode": {
    "name": "ipython",
    "version": 3
   },
   "file_extension": ".py",
   "mimetype": "text/x-python",
   "name": "python",
   "nbconvert_exporter": "python",
   "pygments_lexer": "ipython3",
   "version": "3.7.3"
  }
 },
 "nbformat": 4,
 "nbformat_minor": 4
}
