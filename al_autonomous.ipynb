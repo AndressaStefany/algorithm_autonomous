{
  "nbformat": 4,
  "nbformat_minor": 0,
  "metadata": {
    "colab": {
      "name": "al_autonomous.ipynb",
      "provenance": [],
      "collapsed_sections": []
    },
    "kernelspec": {
      "name": "python3",
      "display_name": "Python 3"
    }
  },
  "cells": [
    {
      "cell_type": "markdown",
      "metadata": {
        "id": "A0WYUUvwr1o6",
        "colab_type": "text"
      },
      "source": [
        "# Boot"
      ]
    },
    {
      "cell_type": "code",
      "metadata": {
        "id": "g1CyyojUpNsC",
        "colab_type": "code",
        "outputId": "293f8c97-91f7-47a5-c0c3-7ca016ce6ac7",
        "colab": {
          "base_uri": "https://localhost:8080/",
          "height": 34
        }
      },
      "source": [
        "from google.colab import drive\n",
        "drive.mount(\"/gdrive\", force_remount=True)"
      ],
      "execution_count": 9,
      "outputs": [
        {
          "output_type": "stream",
          "text": [
            "Mounted at /gdrive\n"
          ],
          "name": "stdout"
        }
      ]
    },
    {
      "cell_type": "code",
      "metadata": {
        "id": "5L-dvY82r9Oh",
        "colab_type": "code",
        "colab": {}
      },
      "source": [
        "!cp -r '/gdrive/My Drive/Mestrado/07 - Autonomous/code/' '/content'\n",
        "!mv '/content/code' '/content/scripts'\n",
        "!cp '/content/scripts/cluster.py' '/content'\n",
        "!cp '/content/scripts/get_radius.py' '/content'\n",
        "!cp '/content/scripts/new_cluster.py' '/content'\n",
        "!cp '/content/scripts/update_clusters.py' '/content'\n",
        "!cp '/content/scripts/utils.py' '/content'\n",
        "!rm -r '/content/scripts/'"
      ],
      "execution_count": 0,
      "outputs": []
    },
    {
      "cell_type": "code",
      "metadata": {
        "id": "HrEqFmMCsxzE",
        "colab_type": "code",
        "colab": {}
      },
      "source": [
        "!cp -r '/gdrive/My Drive/Mestrado/07 - Autonomous/data/' '/content'"
      ],
      "execution_count": 0,
      "outputs": []
    },
    {
      "cell_type": "code",
      "metadata": {
        "id": "7AyUJ_CNtfa6",
        "colab_type": "code",
        "colab": {}
      },
      "source": [
        "import pandas as pd\n",
        "import numpy as np\n",
        "import matplotlib.pyplot as plt"
      ],
      "execution_count": 0,
      "outputs": []
    },
    {
      "cell_type": "markdown",
      "metadata": {
        "id": "Ka9Ie2dGkoO6",
        "colab_type": "text"
      },
      "source": [
        "# Algorithm"
      ]
    },
    {
      "cell_type": "code",
      "metadata": {
        "id": "X-u_sqH-lAmO",
        "colab_type": "code",
        "colab": {}
      },
      "source": [
        "from utils import min_dist, is_empty_list, dist\n",
        "from new_cluster import new_cluster\n",
        "from update_clusters import update_winner_cluster, update_nearest_cluster"
      ],
      "execution_count": 0,
      "outputs": []
    },
    {
      "cell_type": "code",
      "metadata": {
        "id": "HpRC_3IikotR",
        "colab_type": "code",
        "colab": {}
      },
      "source": [
        "class Autonomous:\n",
        "    def __init__(self, fac, frac=100, m=4): # default of article\n",
        "        self.fac = fac\n",
        "        self.frac = frac\n",
        "        self.m = m\n",
        "        self.clusters = []\n",
        "\n",
        "    pass\n",
        "\n",
        "    # x = np.array\n",
        "    def process(self, x):\n",
        "        p = len(x)\n",
        "        if is_empty_list(self.clusters):\n",
        "            self.clusters.append(new_cluster(\n",
        "                x, self.frac, self.fac, p, self.m))\n",
        "        else:\n",
        "            win_cluster = min_dist(x, self.clusters)\n",
        "            if dist(x, win_cluster) > win_cluster.radius:\n",
        "                self.clusters.append(new_cluster(\n",
        "                    x, self.frac, self.fac, p, self.m))\n",
        "            else:\n",
        "                self.clusters.remove(win_cluster)\n",
        "                update_winner_cluster(x, win_cluster)\n",
        "\n",
        "                if len(self.clusters) != 0:\n",
        "                    self.clusters = update_nearest_cluster(x, win_cluster, self.clusters)\n",
        "                    # print('self.clusters: ', self.clusters[0].S) # não está modificando\n",
        "\n",
        "                self.clusters.append(win_cluster)\n",
        "                pass\n",
        "        pass"
      ],
      "execution_count": 0,
      "outputs": []
    },
    {
      "cell_type": "markdown",
      "metadata": {
        "id": "ELjGXtuFr8uN",
        "colab_type": "text"
      },
      "source": [
        "# Test with S1"
      ]
    },
    {
      "cell_type": "markdown",
      "metadata": {
        "id": "nlb-n8QutyXe",
        "colab_type": "text"
      },
      "source": [
        "http://cs.joensuu.fi/sipu/datasets/"
      ]
    },
    {
      "cell_type": "code",
      "metadata": {
        "id": "hq4OK5rjtyEh",
        "colab_type": "code",
        "outputId": "57a3844f-a1dc-45b3-9557-4ea116d91ee3",
        "colab": {
          "base_uri": "https://localhost:8080/",
          "height": 170
        }
      },
      "source": [
        "data_s1 = pd.read_csv('data/s1.txt', delimiter='    ', header=None, engine='python')\n",
        "print(data_s1.values)\n",
        "print(type(data_s1.values))\n",
        "print(len(data_s1.values))"
      ],
      "execution_count": 4,
      "outputs": [
        {
          "output_type": "stream",
          "text": [
            "[[664159 550946]\n",
            " [665845 557965]\n",
            " [597173 575538]\n",
            " ...\n",
            " [650661 861267]\n",
            " [599647 858702]\n",
            " [684091 842566]]\n",
            "<class 'numpy.ndarray'>\n",
            "5000\n"
          ],
          "name": "stdout"
        }
      ]
    },
    {
      "cell_type": "code",
      "metadata": {
        "id": "gsDhNy5lypqw",
        "colab_type": "code",
        "colab": {}
      },
      "source": [
        "data = data_s1\n",
        "normalized_df=(data-data.min())/(data.max()-data.min())"
      ],
      "execution_count": 0,
      "outputs": []
    },
    {
      "cell_type": "code",
      "metadata": {
        "id": "18CMK3WJtX4Q",
        "colab_type": "code",
        "outputId": "7ad9e4e0-d7db-46e3-c078-a0b991b27c03",
        "colab": {
          "base_uri": "https://localhost:8080/",
          "height": 34
        }
      },
      "source": [
        "data_s1_cb = pd.read_csv('data/s1-cb.txt', delimiter=' ', header=None, engine='python')\n",
        "data_s1_cb = data_s1_cb.drop([2], axis=1)\n",
        "print(len(data_s1_cb.values))"
      ],
      "execution_count": 6,
      "outputs": [
        {
          "output_type": "stream",
          "text": [
            "15\n"
          ],
          "name": "stdout"
        }
      ]
    },
    {
      "cell_type": "code",
      "metadata": {
        "id": "wtninJGSt9xT",
        "colab_type": "code",
        "colab": {}
      },
      "source": [
        "autonomous_S1 = Autonomous(fac = 3.3)\n",
        "\n",
        "for r in data_s1.values:\n",
        "    autonomous_S1.process(r)"
      ],
      "execution_count": 0,
      "outputs": []
    },
    {
      "cell_type": "code",
      "metadata": {
        "id": "xgiIhyibCR5T",
        "colab_type": "code",
        "colab": {
          "base_uri": "https://localhost:8080/",
          "height": 34
        },
        "outputId": "30f71366-9e92-4b8c-849d-7add5cf17021"
      },
      "source": [
        "len(autonomous_S1.clusters)"
      ],
      "execution_count": 8,
      "outputs": [
        {
          "output_type": "execute_result",
          "data": {
            "text/plain": [
              "14"
            ]
          },
          "metadata": {
            "tags": []
          },
          "execution_count": 8
        }
      ]
    },
    {
      "cell_type": "code",
      "metadata": {
        "id": "CXuFUrTZada7",
        "colab_type": "code",
        "colab": {
          "base_uri": "https://localhost:8080/",
          "height": 68
        },
        "outputId": "a308027f-cd7b-4995-a574-e3aad381c58f"
      },
      "source": [
        "np.append([[1, 2, 3], [4, 5, 6]], [[7, 8, 9]], axis=0)"
      ],
      "execution_count": 8,
      "outputs": [
        {
          "output_type": "execute_result",
          "data": {
            "text/plain": [
              "array([[1, 2, 3],\n",
              "       [4, 5, 6],\n",
              "       [7, 8, 9]])"
            ]
          },
          "metadata": {
            "tags": []
          },
          "execution_count": 8
        }
      ]
    },
    {
      "cell_type": "code",
      "metadata": {
        "id": "3E7DRFinAeMG",
        "colab_type": "code",
        "colab": {
          "base_uri": "https://localhost:8080/",
          "height": 248
        },
        "outputId": "9013cb77-fd35-44a8-c775-c99e24f6c5f9"
      },
      "source": [
        "plt.figure()\n",
        "for cluster in autonomous_S1.clusters:\n",
        "    plt.scatter(cluster.S[0], cluster.S[1],s=10, c='blue')\n",
        "    # plt.scatter(cluster.centroid[0], cluster.centroid[1],s=10, c='red')\n",
        "plt.show()"
      ],
      "execution_count": 9,
      "outputs": [
        {
          "output_type": "error",
          "ename": "IndexError",
          "evalue": "ignored",
          "traceback": [
            "\u001b[0;31m---------------------------------------------------------------------------\u001b[0m",
            "\u001b[0;31mIndexError\u001b[0m                                Traceback (most recent call last)",
            "\u001b[0;32m<ipython-input-9-74a9cb176dde>\u001b[0m in \u001b[0;36m<module>\u001b[0;34m()\u001b[0m\n\u001b[1;32m      1\u001b[0m \u001b[0mplt\u001b[0m\u001b[0;34m.\u001b[0m\u001b[0mfigure\u001b[0m\u001b[0;34m(\u001b[0m\u001b[0;34m)\u001b[0m\u001b[0;34m\u001b[0m\u001b[0;34m\u001b[0m\u001b[0m\n\u001b[1;32m      2\u001b[0m \u001b[0;32mfor\u001b[0m \u001b[0mcluster\u001b[0m \u001b[0;32min\u001b[0m \u001b[0mautonomous_S1\u001b[0m\u001b[0;34m.\u001b[0m\u001b[0mclusters\u001b[0m\u001b[0;34m:\u001b[0m\u001b[0;34m\u001b[0m\u001b[0;34m\u001b[0m\u001b[0m\n\u001b[0;32m----> 3\u001b[0;31m     \u001b[0mplt\u001b[0m\u001b[0;34m.\u001b[0m\u001b[0mscatter\u001b[0m\u001b[0;34m(\u001b[0m\u001b[0mcluster\u001b[0m\u001b[0;34m.\u001b[0m\u001b[0mS\u001b[0m\u001b[0;34m[\u001b[0m\u001b[0;36m0\u001b[0m\u001b[0;34m]\u001b[0m\u001b[0;34m,\u001b[0m \u001b[0mcluster\u001b[0m\u001b[0;34m.\u001b[0m\u001b[0mS\u001b[0m\u001b[0;34m[\u001b[0m\u001b[0;36m1\u001b[0m\u001b[0;34m]\u001b[0m\u001b[0;34m,\u001b[0m\u001b[0ms\u001b[0m\u001b[0;34m=\u001b[0m\u001b[0;36m10\u001b[0m\u001b[0;34m,\u001b[0m \u001b[0mc\u001b[0m\u001b[0;34m=\u001b[0m\u001b[0;34m'blue'\u001b[0m\u001b[0;34m)\u001b[0m\u001b[0;34m\u001b[0m\u001b[0;34m\u001b[0m\u001b[0m\n\u001b[0m\u001b[1;32m      4\u001b[0m     \u001b[0;31m# plt.scatter(cluster.centroid[0], cluster.centroid[1],s=10, c='red')\u001b[0m\u001b[0;34m\u001b[0m\u001b[0;34m\u001b[0m\u001b[0;34m\u001b[0m\u001b[0m\n\u001b[1;32m      5\u001b[0m \u001b[0mplt\u001b[0m\u001b[0;34m.\u001b[0m\u001b[0mshow\u001b[0m\u001b[0;34m(\u001b[0m\u001b[0;34m)\u001b[0m\u001b[0;34m\u001b[0m\u001b[0;34m\u001b[0m\u001b[0m\n",
            "\u001b[0;31mIndexError\u001b[0m: index 1 is out of bounds for axis 0 with size 1"
          ]
        },
        {
          "output_type": "display_data",
          "data": {
            "text/plain": [
              "<Figure size 432x288 with 0 Axes>"
            ]
          },
          "metadata": {
            "tags": []
          }
        }
      ]
    },
    {
      "cell_type": "code",
      "metadata": {
        "id": "MT1lW9LZCBxS",
        "colab_type": "code",
        "colab": {}
      },
      "source": [
        ""
      ],
      "execution_count": 0,
      "outputs": []
    }
  ]
}